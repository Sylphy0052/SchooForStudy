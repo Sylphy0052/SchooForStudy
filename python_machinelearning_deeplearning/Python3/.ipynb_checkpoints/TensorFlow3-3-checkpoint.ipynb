{
 "cells": [
  {
   "cell_type": "markdown",
   "metadata": {},
   "source": [
    "# 畳込みニューラルネットワークの例"
   ]
  },
  {
   "cell_type": "markdown",
   "metadata": {},
   "source": [
    "## データ読み込み"
   ]
  },
  {
   "cell_type": "code",
   "execution_count": null,
   "metadata": {
    "collapsed": true
   },
   "outputs": [],
   "source": [
    "import numpy as np\n",
    "import matplotlib.pyplot as plt\n",
    "from tensorflow.examples.tutorials.mnist import input_data\n",
    "import tensorflow as tf\n",
    "\n",
    "mnist = input_data.read_data_sets(\"data\", one_hot=True)\n",
    "\n",
    "images, labels = mnist.train.next_batch(10)\n",
    "\n"
   ]
  },
  {
   "cell_type": "code",
   "execution_count": null,
   "metadata": {
    "collapsed": true
   },
   "outputs": [],
   "source": [
    "%matplotlib inline\n",
    "fig = plt.figure(figsize=(8,4))\n",
    "for c, (image, label) in enumerate(zip(images, labels)):\n",
    "    subplot = fig.add_subplot(2,5,c+1)\n",
    "    subplot.set_xticks([])\n",
    "    subplot.set_yticks([])\n",
    "    subplot.set_title('%d' % np.argmax(label))\n",
    "    subplot.imshow(image.reshape((28,28)), vmin=0, vmax=1,\n",
    "                   cmap=plt.cm.gray_r, interpolation=\"nearest\")"
   ]
  },
  {
   "cell_type": "markdown",
   "metadata": {},
   "source": [
    "## 計算モデルの定義"
   ]
  },
  {
   "cell_type": "code",
   "execution_count": null,
   "metadata": {
    "collapsed": true
   },
   "outputs": [],
   "source": [
    "num_filters = 16\n",
    "\n",
    "x = tf.placeholder(tf.float32, [None, 784])\n",
    "x_image = tf.reshape(x, [-1,28,28,1])\n",
    "\n",
    "#畳込みフィルター\n",
    "W_conv = tf.Variable(tf.truncated_normal([5,5,1,num_filters],\n",
    "                                         stddev=0.1),name='W_conv')\n",
    "#畳み込み層の定義\n",
    "#stride:フィルターの適用範囲 2x2\n",
    "#padding:ゼロパティングの使用(SAME)\n",
    "h_conv = tf.nn.conv2d(x_image, W_conv,\n",
    "                      strides=[1,1,1,1], padding='SAME' ,name='h_conv')\n",
    "\n",
    "#プーリング層の定義\n",
    "#kzie:プーリングサイズ：2x2\n",
    "h_pool =tf.nn.max_pool(h_conv, ksize=[1,2,2,1],\n",
    "                       strides=[1,2,2,1], padding='SAME',name='h_pool')\n",
    "\n",
    "# 14 X 14 の　1次元のデータに変換\n",
    "h_pool_flat = tf.reshape(h_pool, [-1, 14*14*num_filters])\n",
    "\n",
    "num_units1 = 14*14*num_filters\n",
    "num_units2 = 1024\n",
    "\n",
    "\n",
    "w2 = tf.Variable(tf.truncated_normal([num_units1, num_units2]),name='w2')\n",
    "b2 = tf.Variable(tf.zeros([num_units2]),name='b2')\n",
    "\n",
    "#全結合層\n",
    "hidden2 = tf.nn.relu(tf.matmul(h_pool_flat, w2) + b2,name='hidden2')\n",
    "\n",
    "\n",
    "w0 = tf.Variable(tf.zeros([num_units2, 10]),name='w0')\n",
    "b0 = tf.Variable(tf.zeros([10]),name='b0')\n",
    "\n",
    "#ソフトマックス関数\n",
    "p = tf.nn.softmax(tf.matmul(hidden2, w0) + b0,name='p')\n",
    "\n",
    "t = tf.placeholder(tf.float32, [None, 10])\n",
    "loss = -tf.reduce_sum(t * tf.log(p))\n",
    "\n",
    "train_step = tf.train.AdamOptimizer(0.0005).minimize(loss)\n",
    "correct_prediction = tf.equal(tf.argmax(p, 1), tf.argmax(t, 1))\n",
    "accuracy = tf.reduce_mean(tf.cast(correct_prediction, tf.float32))\n"
   ]
  },
  {
   "cell_type": "markdown",
   "metadata": {},
   "source": [
    "## 計算実行"
   ]
  },
  {
   "cell_type": "code",
   "execution_count": null,
   "metadata": {
    "collapsed": true
   },
   "outputs": [],
   "source": [
    "sess = tf.InteractiveSession()\n",
    "sess.run(tf.global_variables_initializer())\n",
    "\n",
    "for i in range(2000):\n",
    "    batch_xs, batch_ts = mnist.train.next_batch(100)\n",
    "    sess.run(train_step, feed_dict={x: batch_xs, t: batch_ts,})\n",
    "    if (i + 1 ) % 1000 == 0:\n",
    "        loss_val, acc_val = sess.run([loss, accuracy],\n",
    "            feed_dict={x:mnist.test.images, t:mnist.test.labels})\n",
    "        print ('Step:', i, 'Loss:',loss_val, 'Accuracy:',acc_val)\n"
   ]
  },
  {
   "cell_type": "code",
   "execution_count": null,
   "metadata": {
    "collapsed": true
   },
   "outputs": [],
   "source": [
    "saver = tf.train.Saver()\n",
    "saver.save(sess, 'test_model')"
   ]
  },
  {
   "cell_type": "markdown",
   "metadata": {},
   "source": [
    "# 畳みこみフィルターの確認"
   ]
  },
  {
   "cell_type": "code",
   "execution_count": null,
   "metadata": {
    "collapsed": true
   },
   "outputs": [],
   "source": [
    "filter_vals= sess.run(\n",
    "    W_conv, feed_dict={x:mnist.test.images, t:mnist.test.labels})\n",
    "\n",
    "fig = plt.figure(figsize=(10,10))\n",
    "\n",
    "for f in range(num_filters):\n",
    "    subplot = fig.add_subplot(8, 8, f+1)\n",
    "    subplot.set_xticks([])\n",
    "    subplot.set_yticks([])\n",
    "    subplot.imshow(filter_vals[:,:,0,f],\n",
    "                   cmap=plt.cm.gray_r, interpolation='nearest') "
   ]
  },
  {
   "cell_type": "markdown",
   "metadata": {},
   "source": [
    "# 畳込みフィルターを適用した画像\n"
   ]
  },
  {
   "cell_type": "code",
   "execution_count": null,
   "metadata": {
    "collapsed": true
   },
   "outputs": [],
   "source": [
    "conv1_vals= sess.run(\n",
    "    h_conv, feed_dict={x:mnist.test.images, t:mnist.test.labels})\n",
    "\n",
    "fig = plt.figure(figsize=(10,10))\n",
    "\n",
    "for f in range(num_filters):\n",
    "    subplot = fig.add_subplot(8, 8, f+1)\n",
    "    subplot.set_xticks([])\n",
    "    subplot.set_yticks([])\n",
    "    subplot.imshow(conv1_vals[0,:,:,f],\n",
    "                   cmap=plt.cm.gray_r, interpolation='nearest') \n",
    "\n"
   ]
  },
  {
   "cell_type": "markdown",
   "metadata": {},
   "source": [
    " # プーリング層で縮小された画像の確認"
   ]
  },
  {
   "cell_type": "code",
   "execution_count": null,
   "metadata": {
    "collapsed": true,
    "scrolled": true
   },
   "outputs": [],
   "source": [
    "pool_vals= sess.run(\n",
    "    h_pool, feed_dict={x:mnist.test.images, t:mnist.test.labels})\n",
    "\n",
    "fig = plt.figure(figsize=(10,10))\n",
    "\n",
    "for f in range(num_filters):\n",
    "    subplot = fig.add_subplot(8, 8, f+1)\n",
    "    subplot.set_xticks([])\n",
    "    subplot.set_yticks([])\n",
    "    subplot.imshow(pool_vals[0,:,:,f],\n",
    "                   cmap=plt.cm.gray_r, interpolation='nearest') "
   ]
  }
 ],
 "metadata": {
  "anaconda-cloud": {},
  "kernelspec": {
   "display_name": "Python 3",
   "language": "python",
   "name": "python3"
  },
  "language_info": {
   "codemirror_mode": {
    "name": "ipython",
    "version": 3
   },
   "file_extension": ".py",
   "mimetype": "text/x-python",
   "name": "python",
   "nbconvert_exporter": "python",
   "pygments_lexer": "ipython3",
   "version": "3.6.2"
  },
  "toc": {
   "colors": {
    "hover_highlight": "#DAA520",
    "running_highlight": "#FF0000",
    "selected_highlight": "#FFD700"
   },
   "moveMenuLeft": true,
   "nav_menu": {
    "height": "142px",
    "width": "252px"
   },
   "navigate_menu": true,
   "number_sections": true,
   "sideBar": true,
   "threshold": 4,
   "toc_cell": false,
   "toc_section_display": "block",
   "toc_window_display": false
  }
 },
 "nbformat": 4,
 "nbformat_minor": 2
}
