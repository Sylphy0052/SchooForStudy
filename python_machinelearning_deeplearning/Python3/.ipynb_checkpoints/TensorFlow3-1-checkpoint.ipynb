{
 "cells": [
  {
   "cell_type": "markdown",
   "metadata": {},
   "source": [
    "## 多層ニューラルネットワーク (隠れ層１つの例）"
   ]
  },
  {
   "cell_type": "markdown",
   "metadata": {},
   "source": [
    "### テストデータの準備"
   ]
  },
  {
   "cell_type": "code",
   "execution_count": 1,
   "metadata": {},
   "outputs": [
    {
     "name": "stderr",
     "output_type": "stream",
     "text": [
      "/Users/pyente/.pyenv/versions/anaconda3-5.0.0/lib/python3.6/importlib/_bootstrap.py:205: RuntimeWarning: numpy.dtype size changed, may indicate binary incompatibility. Expected 96, got 88\n",
      "  return f(*args, **kwds)\n",
      "/Users/pyente/.pyenv/versions/anaconda3-5.0.0/lib/python3.6/importlib/_bootstrap.py:205: ImportWarning: can't resolve package from __spec__ or __package__, falling back on __name__ and __path__\n",
      "  return f(*args, **kwds)\n",
      "/Users/pyente/.pyenv/versions/anaconda3-5.0.0/lib/python3.6/importlib/_bootstrap.py:205: RuntimeWarning: numpy.dtype size changed, may indicate binary incompatibility. Expected 96, got 88\n",
      "  return f(*args, **kwds)\n",
      "/Users/pyente/.pyenv/versions/anaconda3-5.0.0/lib/python3.6/importlib/_bootstrap.py:205: ImportWarning: can't resolve package from __spec__ or __package__, falling back on __name__ and __path__\n",
      "  return f(*args, **kwds)\n",
      "/Users/pyente/.pyenv/versions/anaconda3-5.0.0/lib/python3.6/site-packages/tensorflow/python/framework/ops.py:939: DeprecationWarning: builtin type EagerTensor has no __module__ attribute\n",
      "  EagerTensor = c_api.TFE_Py_InitEagerTensor(_EagerTensorBase)\n",
      "/Users/pyente/.pyenv/versions/anaconda3-5.0.0/lib/python3.6/site-packages/tensorflow/python/util/tf_inspect.py:55: DeprecationWarning: inspect.getargspec() is deprecated, use inspect.signature() or inspect.getfullargspec()\n",
      "  if d.decorator_argspec is not None), _inspect.getargspec(target))\n",
      "/Users/pyente/.pyenv/versions/anaconda3-5.0.0/lib/python3.6/site-packages/tensorflow/python/keras/_impl/keras/backend.py:4637: ResourceWarning: unclosed file <_io.TextIOWrapper name='/Users/pyente/.keras/keras.json' mode='r' encoding='UTF-8'>\n",
      "  _config = json.load(open(_config_path))\n",
      "/Users/pyente/.pyenv/versions/anaconda3-5.0.0/lib/python3.6/site-packages/urllib3/contrib/pyopenssl.py:46: DeprecationWarning: OpenSSL.rand is deprecated - you should use os.urandom instead\n",
      "  import OpenSSL.SSL\n",
      "/Users/pyente/.pyenv/versions/anaconda3-5.0.0/lib/python3.6/importlib/_bootstrap.py:205: ImportWarning: can't resolve package from __spec__ or __package__, falling back on __name__ and __path__\n",
      "  return f(*args, **kwds)\n",
      "/Users/pyente/.pyenv/versions/anaconda3-5.0.0/lib/python3.6/importlib/_bootstrap.py:205: RuntimeWarning: numpy.dtype size changed, may indicate binary incompatibility. Expected 96, got 88\n",
      "  return f(*args, **kwds)\n",
      "/Users/pyente/.pyenv/versions/anaconda3-5.0.0/lib/python3.6/importlib/_bootstrap.py:205: RuntimeWarning: numpy.dtype size changed, may indicate binary incompatibility. Expected 96, got 88\n",
      "  return f(*args, **kwds)\n",
      "/Users/pyente/.pyenv/versions/anaconda3-5.0.0/lib/python3.6/importlib/_bootstrap.py:205: ImportWarning: can't resolve package from __spec__ or __package__, falling back on __name__ and __path__\n",
      "  return f(*args, **kwds)\n"
     ]
    },
    {
     "data": {
      "image/png": "[encoded data removed]",
      "text/plain": [
       "<matplotlib.figure.Figure at 0x107bedbe0>"
      ]
     },
     "metadata": {},
     "output_type": "display_data"
    }
   ],
   "source": [
    "%matplotlib inline\n",
    "import pandas as pd\n",
    "import tensorflow as tf\n",
    "import matplotlib.pyplot as plt\n",
    "import numpy as np\n",
    "\n",
    "data_set = pd.read_csv('http://www.lighthouselab.co.jp/python/anaconda/test_data2.csv',index_col=0)\n",
    "data0 = data_set[data_set['t']==0]\n",
    "data1 = data_set[data_set['t']==1]\n",
    "\n",
    "fig = plt.figure(figsize=(6,6))\n",
    "plt.scatter(data0.x1, data0.x2, c='r', marker='x')\n",
    "plt.scatter(data1.x1, data1.x2, c='b',marker='o')\n",
    "plt.show()"
   ]
  },
  {
   "cell_type": "raw",
   "metadata": {},
   "source": [
    "df"
   ]
  },
  {
   "cell_type": "code",
   "execution_count": 2,
   "metadata": {},
   "outputs": [
    {
     "name": "stdout",
     "output_type": "stream",
     "text": [
      "            x1         x2  t\n",
      "0     2.846101   6.016084  1\n",
      "1     5.476809   3.529059  1\n",
      "2     8.095267  -7.243145  0\n",
      "3    11.631952 -11.277452  0\n",
      "4     3.457370  10.340090  1\n",
      "5   -11.415622   7.556737  0\n",
      "6   -13.336106  -0.513129  0\n",
      "7    -9.738736   3.102543  0\n",
      "8   -13.509872  10.472570  0\n",
      "9     4.131628  -2.049051  0\n",
      "10   -4.856893  -4.098957  1\n",
      "11   -3.315314  -6.468589  1\n",
      "12   -0.554719   2.782316  0\n",
      "13    9.709714   6.318125  1\n",
      "14   -3.608504  16.498881  0\n",
      "15   -4.259899  -8.363673  1\n",
      "16   -3.126381   2.372991  0\n",
      "17   -3.517735  -7.415616  1\n",
      "18   11.247428  -6.894630  0\n",
      "19   -6.616372   2.706065  1\n",
      "20   -7.027859  10.528617  0\n",
      "21   10.340691   6.279456  1\n",
      "22   -5.274216  -7.758238  1\n",
      "23    4.267485  11.239149  1\n",
      "24  -10.189145 -13.515704  1\n",
      "25   -3.825806   2.746046  0\n",
      "26  -11.772453  11.850777  0\n",
      "27   11.196365   8.012634  1\n",
      "28  -12.163151  -9.796890  1\n",
      "29   -9.328597  -6.243442  1\n",
      "..         ...        ... ..\n",
      "90   -7.269150 -13.796336  1\n",
      "91    0.107385   2.657258  0\n",
      "92   12.507828   3.683935  0\n",
      "93    6.875048  -5.196205  0\n",
      "94    5.174518  -7.959973  0\n",
      "95   11.468865   6.444081  1\n",
      "96   -5.260237   2.529339  0\n",
      "97  -10.496203   6.960672  0\n",
      "98    8.403166  10.850563  1\n",
      "99   13.528162  -5.837108  0\n",
      "100  -7.462591  -5.850184  1\n",
      "101   0.300496  10.278489  1\n",
      "102   9.406716  -6.420819  0\n",
      "103  11.781601   2.902152  1\n",
      "104  18.748107  10.869646  1\n",
      "105 -12.547299   6.276311  0\n",
      "106  -0.592465  -0.436817  1\n",
      "107  -4.198817  -3.509733  1\n",
      "108   4.165388   7.045104  1\n",
      "109  -8.063106   7.218250  0\n",
      "110 -14.723806   4.633497  0\n",
      "111   2.839170   8.401800  1\n",
      "112  -6.932911  10.236849  0\n",
      "113   3.183194   2.999473  1\n",
      "114  -9.195087   9.662601  0\n",
      "115   0.730283  -7.921602  1\n",
      "116   5.086403  -4.992241  0\n",
      "117   8.242787 -12.685016  0\n",
      "118   3.831442  -9.921415  0\n",
      "119   9.994736  -2.223571  0\n",
      "\n",
      "[120 rows x 3 columns]\n"
     ]
    }
   ],
   "source": [
    "print(data_set)"
   ]
  },
  {
   "cell_type": "markdown",
   "metadata": {},
   "source": [
    "### 計算モデル"
   ]
  },
  {
   "cell_type": "code",
   "execution_count": 3,
   "metadata": {
    "scrolled": true
   },
   "outputs": [
    {
     "name": "stderr",
     "output_type": "stream",
     "text": [
      "/Users/pyente/.pyenv/versions/anaconda3-5.0.0/lib/python3.6/site-packages/tensorflow/python/util/tf_inspect.py:55: DeprecationWarning: inspect.getargspec() is deprecated, use inspect.signature() or inspect.getfullargspec()\n",
      "  if d.decorator_argspec is not None), _inspect.getargspec(target))\n"
     ]
    }
   ],
   "source": [
    "train_x = data_set[['x1','x2']].as_matrix()\n",
    "train_t = data_set['t'].as_matrix().reshape([len(data_set), 1])\n",
    "\n",
    "num_units = 2\n",
    "\n",
    "#入力データ\n",
    "x = tf.placeholder(tf.float32, [None, 2],name='x')\n",
    "\n",
    "#重み\n",
    "w1 = tf.Variable(tf.truncated_normal([2, num_units]))\n",
    "\n",
    "#バイアス(入力→隠れ層)\n",
    "b1 = tf.Variable(tf.zeros([num_units]))\n",
    "#隠れ層\n",
    "hidden1 = tf.nn.tanh(tf.matmul(x, w1) + b1)\n",
    "\n",
    "#重み(隠れ層→出力層)\n",
    "w0 = tf.Variable(tf.zeros([num_units, 1]))\n",
    "#バイアス\n",
    "b0 = tf.Variable(tf.zeros([1]))\n",
    "#シグモイド関数\n",
    "p = tf.nn.sigmoid(tf.matmul(hidden1, w0) + b0)\n",
    "\n",
    "t = tf.placeholder(tf.float32, [None, 1],name='t')\n",
    "loss = -tf.reduce_sum(t*tf.log(p) + (1-t)*tf.log(1-p))\n",
    "train_step = tf.train.GradientDescentOptimizer(0.001).minimize(loss)\n",
    "\n",
    "correct_prediction = tf.equal(tf.sign(p-0.5), tf.sign(t-0.5))\n",
    "accuracy = tf.reduce_mean(tf.cast(correct_prediction, tf.float32))\n"
   ]
  },
  {
   "cell_type": "markdown",
   "metadata": {},
   "source": [
    "### 計算実行"
   ]
  },
  {
   "cell_type": "code",
   "execution_count": 4,
   "metadata": {},
   "outputs": [
    {
     "name": "stdout",
     "output_type": "stream",
     "text": [
      "Step: 0 Loss: 83.15271 Accuracy: 0.525\n",
      "Step: 1000 Loss: 81.814285 Accuracy: 0.56666666\n",
      "Step: 2000 Loss: 57.155464 Accuracy: 0.73333335\n",
      "Step: 3000 Loss: 54.995037 Accuracy: 0.73333335\n",
      "Step: 4000 Loss: 54.330082 Accuracy: 0.7416667\n",
      "Step: 5000 Loss: 53.915146 Accuracy: 0.75\n",
      "Step: 6000 Loss: 53.61728 Accuracy: 0.75\n",
      "Step: 7000 Loss: 53.387894 Accuracy: 0.75\n",
      "Step: 8000 Loss: 53.20304 Accuracy: 0.75\n",
      "Step: 9000 Loss: 53.04926 Accuracy: 0.75\n",
      "w0 [[-1.8011236]\n",
      " [-3.106424 ]]\n",
      "b0 [1.432751]\n",
      "w1 [[ 3.991492  -0.7656059]\n",
      " [ 0.8994898 -0.896035 ]]\n",
      "b1 [1.5525056 6.9661555]\n"
     ]
    }
   ],
   "source": [
    "sess = tf.InteractiveSession()\n",
    "\n",
    "tf.global_variables_initializer().run()\n",
    "\n",
    "\n",
    "feed_dict={x:train_x, t:train_t} \n",
    "for i in range(10000):\n",
    "    sess.run(train_step, feed_dict={x:train_x, t:train_t,})\n",
    "    if i % 1000 == 0:\n",
    "        loss_val, acc_val = sess.run(\n",
    "            [loss, accuracy], feed_dict={x:train_x, t:train_t,})\n",
    "        print ('Step:',i,'Loss:',loss_val, 'Accuracy:',acc_val)\n",
    "\n",
    "        \n",
    "w0,w1,b0,b1 = sess.run([w0,w1,b0,b1])\n",
    "print('w0',w0)\n",
    "print('b0',b0)\n",
    "print('w1',w1)\n",
    "print('b1',b1)"
   ]
  },
  {
   "cell_type": "markdown",
   "metadata": {},
   "source": [
    " ### 結果表示"
   ]
  },
  {
   "cell_type": "code",
   "execution_count": 5,
   "metadata": {},
   "outputs": [
    {
     "data": {
      "image/png": "[encoded data removed]",
      "text/plain": [
       "<matplotlib.figure.Figure at 0x106fdf898>"
      ]
     },
     "metadata": {},
     "output_type": "display_data"
    }
   ],
   "source": [
    "%matplotlib inline\n",
    "\n",
    "\n",
    "fig = plt.figure(figsize=(6,6))\n",
    "subplot = fig.add_subplot(1,1,1)\n",
    "subplot.set_ylim([-15,15])\n",
    "subplot.set_xlim([-15,15])\n",
    "subplot.scatter(data0.x1, data0.x2, marker='x')\n",
    "subplot.scatter(data1.x1, data1.x2, marker='o')\n",
    "\n",
    "locations = []\n",
    "for x2 in np.linspace(-20,20,100):\n",
    "    for x1 in np.linspace(-15,15,100):\n",
    "        locations.append((x1,x2))\n",
    "p_vals = sess.run(p, feed_dict={x:locations})\n",
    "p_vals = p_vals.reshape((100,100))\n",
    "subplot.imshow(p_vals, origin='lower', extent=(-20,20,-15,15),\n",
    "               cmap=plt.cm.Blues, alpha=0.5)\n",
    "\n",
    "sess.close()"
   ]
  },
  {
   "cell_type": "markdown",
   "metadata": {},
   "source": [
    "<hr/>\n",
    "## 隠れ層を2層にした例"
   ]
  },
  {
   "cell_type": "markdown",
   "metadata": {},
   "source": [
    "### 隠れ層を２層にして、それぞれの層のノード数は４"
   ]
  },
  {
   "cell_type": "code",
   "execution_count": 6,
   "metadata": {},
   "outputs": [
    {
     "name": "stderr",
     "output_type": "stream",
     "text": [
      "/Users/pyente/.pyenv/versions/anaconda3-5.0.0/lib/python3.6/site-packages/tensorflow/python/util/tf_inspect.py:55: DeprecationWarning: inspect.getargspec() is deprecated, use inspect.signature() or inspect.getfullargspec()\n",
      "  if d.decorator_argspec is not None), _inspect.getargspec(target))\n"
     ]
    }
   ],
   "source": [
    "num_units1 = 4\n",
    "num_units2 = 4\n",
    "\n",
    "\n",
    "x = tf.placeholder(tf.float32, [None, 2],name='x')\n",
    "\n",
    "#隠れ層1層目\n",
    "w1 = tf.Variable(tf.truncated_normal([2, num_units1]))\n",
    "b1 = tf.Variable(tf.zeros([num_units1]))\n",
    "hidden1 = tf.nn.tanh(tf.matmul(x, w1) + b1)\n",
    "\n",
    "\n",
    "#隠れ層2層目\n",
    "w2 = tf.Variable(tf.truncated_normal([num_units1, num_units2]))\n",
    "b2 = tf.Variable(tf.zeros([num_units2]))\n",
    "hidden2 = tf.nn.tanh(tf.matmul(hidden1, w2) + b2)\n",
    "\n",
    "w0 = tf.Variable(tf.zeros([num_units2, 1]))\n",
    "b0 = tf.Variable(tf.zeros([1]))\n",
    "\n",
    "p = tf.nn.sigmoid(tf.matmul(hidden2, w0) + b0)\n",
    "\n",
    "\n",
    "t = tf.placeholder(tf.float32, [None, 1],name='t')\n",
    "loss = -tf.reduce_sum(t*tf.log(p) + (1-t)*tf.log(1-p))\n",
    "\n",
    "train_step = tf.train.GradientDescentOptimizer(0.001).minimize(loss)\n",
    "correct_prediction = tf.equal(tf.sign(p-0.5), tf.sign(t-0.5))\n",
    "accuracy = tf.reduce_mean(tf.cast(correct_prediction, tf.float32))\n",
    "\n",
    "sess = tf.InteractiveSession()\n",
    "sess.run(tf.global_variables_initializer())"
   ]
  },
  {
   "cell_type": "code",
   "execution_count": 7,
   "metadata": {},
   "outputs": [
    {
     "name": "stdout",
     "output_type": "stream",
     "text": [
      "Step: 100, Loss: 82.706779, Accuracy: 0.550000\n",
      "Step: 200, Loss: 81.349075, Accuracy: 0.550000\n",
      "Step: 300, Loss: 77.433838, Accuracy: 0.741667\n",
      "Step: 400, Loss: 58.609634, Accuracy: 0.808333\n",
      "Step: 500, Loss: 45.817444, Accuracy: 0.875000\n",
      "Step: 600, Loss: 42.570133, Accuracy: 0.891667\n",
      "Step: 700, Loss: 29.098183, Accuracy: 0.916667\n",
      "Step: 800, Loss: 25.744427, Accuracy: 0.925000\n",
      "Step: 900, Loss: 23.349289, Accuracy: 0.941667\n",
      "Step: 1000, Loss: 21.965118, Accuracy: 0.941667\n",
      "Step: 1100, Loss: 21.039280, Accuracy: 0.941667\n",
      "Step: 1200, Loss: 20.326996, Accuracy: 0.933333\n",
      "Step: 1300, Loss: 19.718250, Accuracy: 0.933333\n",
      "Step: 1400, Loss: 19.178753, Accuracy: 0.933333\n",
      "Step: 1500, Loss: 18.856707, Accuracy: 0.933333\n",
      "Step: 1600, Loss: 18.496977, Accuracy: 0.933333\n",
      "Step: 1700, Loss: 18.198742, Accuracy: 0.933333\n",
      "Step: 1800, Loss: 17.948364, Accuracy: 0.933333\n",
      "Step: 1900, Loss: 17.734669, Accuracy: 0.933333\n",
      "Step: 2000, Loss: 17.549002, Accuracy: 0.933333\n"
     ]
    }
   ],
   "source": [
    "tf.global_variables_initializer().run()\n",
    "\n",
    "i = 0\n",
    "for _ in range(2000):\n",
    "    i += 1\n",
    "    sess.run(train_step, feed_dict={x:train_x, t:train_t,})\n",
    "    if i % 100 == 0:\n",
    "        loss_val, acc_val = sess.run(\n",
    "            [loss, accuracy], feed_dict={x:train_x, t:train_t,})\n",
    "        print ('Step: %d, Loss: %f, Accuracy: %f'\n",
    "               % (i, loss_val, acc_val))"
   ]
  },
  {
   "cell_type": "code",
   "execution_count": 8,
   "metadata": {},
   "outputs": [
    {
     "data": {
      "text/plain": [
       "<matplotlib.image.AxesImage at 0x10ee58c50>"
      ]
     },
     "execution_count": 8,
     "metadata": {},
     "output_type": "execute_result"
    },
    {
     "data": {
      "image/png": "[encoded data removed]",
      "text/plain": [
       "<matplotlib.figure.Figure at 0x10e4bb4e0>"
      ]
     },
     "metadata": {},
     "output_type": "display_data"
    }
   ],
   "source": [
    "%matplotlib inline\n",
    "\n",
    "fig = plt.figure(figsize=(6,6))\n",
    "subplot = fig.add_subplot(1,1,1)\n",
    "subplot.set_ylim([-15,15])\n",
    "subplot.set_xlim([-15,15])\n",
    "subplot.scatter(data0.x1, data0.x2, marker='x')\n",
    "subplot.scatter(data1.x1, data1.x2, marker='o')\n",
    "\n",
    "locations = []\n",
    "for x2 in np.linspace(-15,15,100):\n",
    "    for x1 in np.linspace(-15,15,100):\n",
    "        locations.append((x1,x2))\n",
    "p_vals = sess.run(p, feed_dict={x:locations})\n",
    "p_vals = p_vals.reshape((100,100))\n",
    "subplot.imshow(p_vals, origin='lower', extent=(-15,15,-15,15),\n",
    "               cmap=plt.cm.Greens, alpha=0.5)"
   ]
  },
  {
   "cell_type": "code",
   "execution_count": null,
   "metadata": {
    "collapsed": true
   },
   "outputs": [],
   "source": []
  }
 ],
 "metadata": {
  "anaconda-cloud": {},
  "kernelspec": {
   "display_name": "Python 3",
   "language": "python",
   "name": "python3"
  },
  "language_info": {
   "codemirror_mode": {
    "name": "ipython",
    "version": 3
   },
   "file_extension": ".py",
   "mimetype": "text/x-python",
   "name": "python",
   "nbconvert_exporter": "python",
   "pygments_lexer": "ipython3",
   "version": "3.6.2"
  },
  "toc": {
   "colors": {
    "hover_highlight": "#DAA520",
    "running_highlight": "#FF0000",
    "selected_highlight": "#FFD700"
   },
   "moveMenuLeft": true,
   "nav_menu": {
    "height": "141px",
    "width": "251px"
   },
   "navigate_menu": true,
   "number_sections": true,
   "sideBar": true,
   "threshold": 4,
   "toc_cell": false,
   "toc_section_display": "block",
   "toc_window_display": false
  }
 },
 "nbformat": 4,
 "nbformat_minor": 2
}
